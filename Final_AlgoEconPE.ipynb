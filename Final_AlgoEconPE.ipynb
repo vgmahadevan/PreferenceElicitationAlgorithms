{
  "cells": [
    {
      "cell_type": "markdown",
      "metadata": {
        "id": "hke5LO9skPjM"
      },
      "source": [
        "# Setup"
      ]
    },
    {
      "cell_type": "code",
      "execution_count": null,
      "metadata": {
        "id": "2p6Ccb-Abj23"
      },
      "outputs": [],
      "source": [
        "import numpy as np\n",
        "import pandas as pd\n",
        "from matplotlib import pyplot as plt\n",
        "import seaborn as sns\n",
        "\n",
        "from tqdm import tqdm\n",
        "\n",
        "from sklearn import svm\n",
        "\n",
        "from warnings import simplefilter\n",
        "from sklearn.exceptions import ConvergenceWarning\n",
        "simplefilter(\"ignore\", category=ConvergenceWarning)"
      ]
    },
    {
      "cell_type": "markdown",
      "source": [
        "In the next cell, we define the environment. Given *n* items and *d* dimensions, we generate a *d*-dimensional vector for each item, uniformly distributed on the *d*-dimensional unit hypersphere centered at the origin. We also generate a *theta* in the same way to represent the user's true preference. We also define some useful functions, including one to find the utility of an item, and one to return the utility of an item with some noise added (for scenario 2). "
      ],
      "metadata": {
        "id": "FEOi2lz6JFmx"
      }
    },
    {
      "cell_type": "code",
      "execution_count": null,
      "metadata": {
        "id": "XRmyI41HcHaO"
      },
      "outputs": [],
      "source": [
        "class Environment:\n",
        "  def __init__(self, n, d):\n",
        "    self.d = d\n",
        "    self.n = n\n",
        "    self.items = self.gen_items()\n",
        "    self.theta = self.gen_theta()\n",
        "    self.best = self.gen_best()\n",
        "    self.max_util = self.gen_max_util()\n",
        "\n",
        "  def gen_items(self):\n",
        "    items = np.zeros((self.n, self.d))\n",
        "    for i in range(self.n):\n",
        "      for j in range(self.d):\n",
        "        items[i,j] = np.random.normal(0, 1)\n",
        "    norms = np.linalg.norm(items, axis = 1)\n",
        "    return items / norms[:,None]\n",
        "  \n",
        "  def gen_theta(self):\n",
        "    theta1 = np.zeros(self.d)\n",
        "    for i in range(self.d):\n",
        "      theta1[i] = np.random.normal(0, 1)\n",
        "    return theta1 / np.linalg.norm(theta1)\n",
        "\n",
        "  def item(self, index):\n",
        "    return self.items[index, :]\n",
        "\n",
        "  def utility(self, x):\n",
        "    return np.dot(self.theta,x)\n",
        "\n",
        "  def util_noisy(self, x):\n",
        "    return np.dot(self.theta,x) + np.random.normal(0, 0.1)\n",
        "\n",
        "  def gen_best(self):\n",
        "    utils = np.matmul(self.items, self.theta)\n",
        "    return np.argmax(utils)\n",
        "\n",
        "  def gen_max_util(self):\n",
        "    return self.utility(self.item(self.best))\n"
      ]
    },
    {
      "cell_type": "markdown",
      "metadata": {
        "id": "7QnFghvpkT47"
      },
      "source": [
        "# Part 1 Algorithm"
      ]
    },
    {
      "cell_type": "markdown",
      "source": [
        "In the following cell, we define our algorithm to solve case 1, where whenever we present an item to the user, they give their utility exactly."
      ],
      "metadata": {
        "id": "50DYstOWJM92"
      }
    },
    {
      "cell_type": "code",
      "execution_count": null,
      "metadata": {
        "id": "rFPXplsxkZRc"
      },
      "outputs": [],
      "source": [
        "# Algorithm to solve Part 1\n",
        "\n",
        "def alg1(env):\n",
        "  n = env.n\n",
        "  d = env.d\n",
        "\n",
        "  matrix = np.zeros((d, d))\n",
        "  utils = np.zeros(d)\n",
        "\n",
        "  # ask the user to provide utilities for d items\n",
        "  for i in range(d):\n",
        "    matrix[i] = env.item(i)\n",
        "    utils[i] = env.utility(env.item(i))\n",
        "\n",
        "  # calculate theta\n",
        "  est_theta = np.linalg.solve(matrix, utils)\n",
        "\n",
        "  # find the item that has the highest utility\n",
        "  best_item = -1\n",
        "  best_util = -1\n",
        "  for i in range(n):\n",
        "    curr_util = np.dot(est_theta,env.item(i))\n",
        "    if curr_util > best_util:\n",
        "      best_util = curr_util\n",
        "      best_item = i\n",
        "\n",
        "  return best_item, best_util\n"
      ]
    },
    {
      "cell_type": "markdown",
      "source": [
        "We can vary the number of items and the dimensions, but so long as we have *n* >= *d*, we can solve for theta explicitly and then loop through the items and choose the best one."
      ],
      "metadata": {
        "id": "ED6W72D8JSMT"
      }
    },
    {
      "cell_type": "code",
      "execution_count": null,
      "metadata": {
        "colab": {
          "base_uri": "https://localhost:8080/"
        },
        "id": "o4uB27CyR3R5",
        "outputId": "768430dd-0d18-4b9d-b759-23b991618cb3"
      },
      "outputs": [
        {
          "output_type": "stream",
          "name": "stdout",
          "text": [
            "Predicted Best Item:  6\n",
            "Actual Best Item:  6\n",
            "Difference in utility (best - predicted_best):  1.1102230246251565e-16\n"
          ]
        }
      ],
      "source": [
        "n = 100\n",
        "d = 5\n",
        "\n",
        "env = Environment(n, d)\n",
        "\n",
        "best_item, best_util = alg1(env)\n",
        "\n",
        "print(\"Predicted Best Item: \", best_item)\n",
        "print(\"Actual Best Item: \", env.best)\n",
        "print(\"Difference in utility (best - predicted_best): \", env.max_util-best_util)  \n"
      ]
    },
    {
      "cell_type": "markdown",
      "metadata": {
        "id": "MLoQl361kZ5p"
      },
      "source": [
        "# Part 2 Algorithm"
      ]
    },
    {
      "cell_type": "markdown",
      "source": [
        "The following cell contains our solution for case 2, where in each interaction, we ask a user for their utility of a particular item, but they respond with some random noise added to the true utility."
      ],
      "metadata": {
        "id": "zcJskxNRKgX6"
      }
    },
    {
      "cell_type": "code",
      "execution_count": null,
      "metadata": {
        "id": "NEBthJNDkeX7"
      },
      "outputs": [],
      "source": [
        "def alg2(env, eps, beta, stop = np.inf, version = 2):\n",
        "  n = env.n\n",
        "  d = env.d\n",
        "\n",
        "  # A is a matrix whose rows are the items chosen at each round\n",
        "  A = np.zeros((d,d))\n",
        "  A[0] = env.item(0)\n",
        "  chosen = [0]\n",
        "\n",
        "  # Matrix of all items (as rows)\n",
        "  a = env.items\n",
        "\n",
        "  # Smart Initialization to maximize smallest eigenvalue of A^TA\n",
        "  if version == 2:\n",
        "    # Keep orthonormal basis for subspace spanned by items chosen so far (as rows)\n",
        "    ortho = np.zeros((d,d))\n",
        "    ortho[0] = env.item(0)/np.linalg.norm(env.item(0))\n",
        "    # List of sums for each item, where sum is the norm squared of the projection of the item\n",
        "    # onto the subspace spanned by items chosen so far minus the norm squared of the item\n",
        "    sums = [-np.linalg.norm(a[i])**2 for i in range(n)]\n",
        "    # At each step, choose item with lowest sum\n",
        "    for m in range(1, d):\n",
        "      min_sum = float('inf')\n",
        "      min_item = -1\n",
        "      sums += (a@ortho[m-1])**2\n",
        "      for i in range(0, n):\n",
        "        sum = sums[i]\n",
        "        # Don't choose an item twice (to avoid singular matrix)\n",
        "        if (i not in chosen) and sum < min_sum:\n",
        "          min_sum = sum\n",
        "          min_item = i\n",
        "      chosen.append(min_item)\n",
        "      A[m] = env.item(min_item)\n",
        "      # Update orthornormal basis\n",
        "      ortho[m] = A[m] - ortho.T@(ortho@A[m])\n",
        "      ortho[m] /= np.linalg.norm(ortho[m])\n",
        "  # Random intialization\n",
        "  else:\n",
        "    for m in range(1,d):\n",
        "      chosen.append(m)\n",
        "      A[m] = env.item(m)\n",
        "\n",
        "  C = np.matmul(A.T, A)\n",
        "  B = np.linalg.inv(C)\n",
        "  # List of x^TBx for each item x\n",
        "  denoms = np.einsum('ij,ij->i', a, a@B)\n",
        "  # Number of interactions with the user so far\n",
        "  num_iters = d-1\n",
        "\n",
        "  # Get (noisy) utilities of first d chosen items from the user\n",
        "  y = np.zeros(d)\n",
        "  for i in range(d):\n",
        "    y[i] = env.util_noisy(A[i])\n",
        "  \n",
        "  # Heuristic for stopping (e[i] = upper estimate on actual utility of item i minus actual utility of current best item)\n",
        "  e = np.zeros(n)\n",
        "  best_e = float('inf')\n",
        "  for i in range(n):\n",
        "    e[i] = float('inf')\n",
        "  \n",
        "\n",
        "  while best_e > eps and num_iters < stop:\n",
        "    num_iters += 1\n",
        "    # Update output of linear regression, our best guess for user's preference\n",
        "    theta = B @ A.T @ y\n",
        "    # Get current best item\n",
        "    x = np.argmax(theta @ env.items.T)\n",
        "    \n",
        "    # Update e[i] according to distribution of u(item x) - u(item i) (see paper for derivation/details)\n",
        "    e = a@theta - theta@env.item(x) + beta*np.sqrt(np.abs(denoms+denoms[x]-2*a@(B@env.item(x))))\n",
        "    e[x] = -1000000\n",
        "\n",
        "    # Get worst possible error\n",
        "    best_e_arg = np.argmax(e)\n",
        "    best_e = np.max(e)\n",
        "\n",
        "    # Choose next item to minimize (env.item(best_e_arg) - env.item(x))^T @ B @ (env.item(best_e_arg) - env.item(x)) for next iteration (see paper for derivation/details)\n",
        "    bad = B @ (env.item(best_e_arg) - env.item(x))\n",
        "    best_e_arg = np.argmax(np.square(bad @ env.items.T) / (denoms+1))\n",
        "\n",
        "\n",
        "    # Get (noisy) utility of chosen item from user\n",
        "    y_prime = env.util_noisy(env.item(best_e_arg))\n",
        "    y = np.append(y, y_prime)\n",
        "\n",
        "    # Update A by adding chosen item as a row\n",
        "    A = np.vstack([A, env.item(best_e_arg).T])\n",
        "    # Update C = A^TA\n",
        "    C += np.matmul(np.matrix(env.item(best_e_arg)).T, np.matrix(env.item(best_e_arg)))\n",
        "    # Update B = (A^TA)^{-1} and denoms = [x^TBx for each item x]\n",
        "    t = B@env.item(best_e_arg)\n",
        "    u = np.matrix(t)\n",
        "    v = 1 + u@env.item(best_e_arg)\n",
        "    B -= np.matmul(u.T, u) / v\n",
        "    denoms -= np.square(a@t).T / float(v)\n",
        "  return [x, env.utility(env.item(x)), num_iters]"
      ]
    },
    {
      "cell_type": "markdown",
      "source": [
        "The following cell provides naive approaches to solving case 2."
      ],
      "metadata": {
        "id": "437icoG8KXSd"
      }
    },
    {
      "cell_type": "code",
      "source": [
        "# This algorithm queries the user's utility for each item and chooses the one \n",
        "# with the highest value\n",
        "# Requires n interactions\n",
        "def part2Naive(env):\n",
        "    \n",
        "    bestutil = -1\n",
        "    bestarm = -1\n",
        "    for i in range(env.n):\n",
        "      currutil = env.util_noisy(env.item(i))\n",
        "      if (currutil > bestutil):\n",
        "        bestutil = currutil\n",
        "        bestarm = i\n",
        "\n",
        "    return env.utility(env.item(bestarm))\n",
        "\n",
        "# This algorithm applies the solution from part 1 to part 2\n",
        "# Requires d interactions\n",
        "def alg1noisy(env):\n",
        "  n = env.n\n",
        "  d = env.d\n",
        "\n",
        "  matrix = np.zeros((d, d))\n",
        "  utils = np.zeros(d)\n",
        "\n",
        "  # ask the user to provide utilities for d items\n",
        "  for i in range(d):\n",
        "    matrix[i] = env.item(i)\n",
        "    utils[i] = env.util_noisy(env.item(i))\n",
        "\n",
        "  # calculate theta\n",
        "  est_theta = np.linalg.solve(matrix, utils)\n",
        "\n",
        "  # find the item that has the highest utility\n",
        "  best_item = -1\n",
        "  best_util = -1\n",
        "  for i in range(n):\n",
        "    curr_util = np.dot(est_theta,env.item(i))\n",
        "    if curr_util > best_util:\n",
        "      best_util = curr_util\n",
        "      best_item = i\n",
        "\n",
        "  return best_item, best_util\n"
      ],
      "metadata": {
        "id": "ZCbeJgEvIIGG"
      },
      "execution_count": null,
      "outputs": []
    },
    {
      "cell_type": "markdown",
      "source": [
        "The following cell provides a graph for comparison of effectiveness in an environment with 500 items and 20 dimensions."
      ],
      "metadata": {
        "id": "seSkp4g0IJrx"
      }
    },
    {
      "cell_type": "code",
      "source": [
        "naiveres = []\n",
        "alg1res = []\n",
        "alg2v0res = []\n",
        "alg2v2res = []\n",
        "v0iters = 0\n",
        "v2iters = 0\n",
        "for i in range(1000):\n",
        "  env = Environment(500, 20)\n",
        "  naiveres.append(env.max_util-part2Naive(env))\n",
        "  alg1arm, alg1util = alg1noisy(env)\n",
        "  alg1res.append(env.max_util-env.utility(env.item(alg1arm)))\n",
        "  v0res = alg2(env, .1, .2, 40, 0)\n",
        "  alg2v0res.append(env.max_util-v0res[1])\n",
        "  v0iters += v0res[-1]\n",
        "\n",
        "  v2res = alg2(env, .1, .2, 40, 2)\n",
        "  alg2v2res.append(env.max_util-v2res[1])\n",
        "  v2iters += v2res[-1]\n",
        "\n",
        "v0iters /= 1000\n",
        "v2iters /= 1000\n",
        "# https://stackoverflow.com/questions/44552489/plotting-multiple-boxplots-in-seaborn\n",
        "df1 = pd.DataFrame(naiveres).assign(Algorithm=\"Naive\")\n",
        "\n",
        "# Part 1 algorithm not graphed because its boxplot is much higher (worse performance) than the others\n",
        "#df2 = pd.DataFrame(alg1res).assign(Algorithm=\"Part 1\")\n",
        "\n",
        "df3 = pd.DataFrame(alg2v0res).assign(Algorithm=\"Version 0\")\n",
        "df4 = pd.DataFrame(alg2v2res).assign(Algorithm=\"Version 2\")\n",
        "\n",
        "cdf = pd.concat([df1, df3, df4])                          \n",
        "mdf = pd.melt(cdf, id_vars=['Algorithm'])     \n",
        "mdf.rename({'value': 'Suboptimality Gap'}, axis=1, inplace=True)\n",
        "print(mdf.head())\n",
        "\n",
        "print(\"v0iters:\", v0iters)\n",
        "print(\"v2iters:\", v2iters)\n",
        "print(\"naive avg:\", np.mean(naiveres))\n",
        "print(\"part 1 avg:\", np.mean(alg1res))\n",
        "print(\"v0 avg\", np.mean(alg2v0res))\n",
        "print(\"v1 avg\", np.mean(alg2v2res))\n",
        "\n",
        "ax = sns.boxplot(x=\"Algorithm\", y=\"Suboptimality Gap\", data=mdf, showfliers=False)  # RUN PLOT   \n",
        "plt.show()\n",
        "\n",
        "\n"
      ],
      "metadata": {
        "id": "pjl6u2pTRKMW",
        "colab": {
          "base_uri": "https://localhost:8080/",
          "height": 657
        },
        "outputId": "20e93a82-67f5-4d2c-ddb4-9c29bc6c7d54"
      },
      "execution_count": null,
      "outputs": [
        {
          "output_type": "stream",
          "name": "stdout",
          "text": [
            "  Algorithm variable  Suboptimality Gap\n",
            "0     Naive        0           0.154732\n",
            "1     Naive        0           0.000000\n",
            "2     Naive        0           0.060215\n",
            "3     Naive        0           0.063674\n",
            "4     Naive        0           0.182628\n",
            "v0iters: 33.128\n",
            "v2iters: 29.464\n",
            "naive avg: 0.06506182983785619\n",
            "part 1 avg: 0.3963676575447847\n",
            "v0 avg 0.03348489142482592\n",
            "v1 avg 0.022609874013113117\n"
          ]
        },
        {
          "output_type": "display_data",
          "data": {
            "text/plain": [
              "<Figure size 640x480 with 1 Axes>"
            ],
            "image/png": "[encoded data removed]"
          },
          "metadata": {}
        }
      ]
    },
    {
      "cell_type": "markdown",
      "source": [
        "The following cell provides a graph for comparison of effectiveness in an environment with 1000 items and 50 dimensions."
      ],
      "metadata": {
        "id": "W-Zf0HkdH5ia"
      }
    },
    {
      "cell_type": "code",
      "source": [
        "# Stuff for 1000 items, 50 dim\n",
        "naiveres = []\n",
        "alg2v0res = []\n",
        "alg2v2res = []\n",
        "v0iters = 0\n",
        "v2iters = 0\n",
        "for i in range(500):\n",
        "  env = Environment(1000, 50)\n",
        "  naiveres.append(env.max_util-part2Naive(env))\n",
        "  alg1arm, alg1util = alg1noisy(env)\n",
        "  alg1res.append(env.max_util-env.utility(env.item(alg1arm)))\n",
        "  v0res = alg2(env, .1, .2, 80, 0)\n",
        "  alg2v0res.append(env.max_util-v0res[1])\n",
        "  v0iters += v0res[-1]\n",
        "\n",
        "  v2res = alg2(env, .1, .2, 80, 2)\n",
        "  alg2v2res.append(env.max_util-v2res[1])\n",
        "  v2iters += v2res[-1]\n",
        "\n",
        "v0iters /= 500\n",
        "v2iters /= 500\n",
        "# https://stackoverflow.com/questions/44552489/plotting-multiple-boxplots-in-seaborn\n",
        "df1 = pd.DataFrame(naiveres).assign(Algorithm=\"Naive\")\n",
        "df2 = pd.DataFrame(alg2v0res).assign(Algorithm=\"Version 0\")\n",
        "df3 = pd.DataFrame(alg2v2res).assign(Algorithm=\"Version 2\")\n",
        "\n",
        "cdf = pd.concat([df1, df2, df3])                                # CONCATENATE\n",
        "mdf = pd.melt(cdf, id_vars=['Algorithm'])      # MELT\n",
        "mdf.rename({'value': 'Suboptimality Gap'}, axis=1, inplace=True)\n",
        "print(mdf.head())\n",
        "\n",
        "print(\"v0iters:\", v0iters)\n",
        "print(\"v2iters:\", v2iters)\n",
        "print(\"naive avg:\", np.mean(naiveres))\n",
        "print(\"part 1 avg:\", np.mean(alg1res))\n",
        "print(\"v0 avg\", np.mean(alg2v0res))\n",
        "print(\"v1 avg\", np.mean(alg2v2res))\n",
        "\n",
        "ax = sns.boxplot(x=\"Algorithm\", y=\"Suboptimality Gap\", data=mdf)  # RUN PLOT   \n",
        "plt.show()\n"
      ],
      "metadata": {
        "colab": {
          "base_uri": "https://localhost:8080/"
        },
        "id": "nsRyK2V_4mLZ",
        "outputId": "762aa2e7-712a-4218-eaf7-9093d2796932"
      },
      "execution_count": null,
      "outputs": [
        {
          "output_type": "stream",
          "name": "stdout",
          "text": [
            "  Algorithm variable  Suboptimality Gap\n",
            "0     Naive        0           0.000000\n",
            "1     Naive        0           0.116866\n",
            "2     Naive        0           0.054436\n",
            "3     Naive        0           0.193616\n",
            "4     Naive        0           0.189651\n",
            "v0iters: 78.606\n",
            "v2iters: 76.294\n",
            "naive avg: 0.07868579387442592\n",
            "part 1 avg: 0.39131333613635993\n",
            "v0 avg 0.0503614822954541\n",
            "v1 avg 0.03805497233097086\n"
          ]
        },
        {
          "output_type": "display_data",
          "data": {
            "text/plain": [
              "<Figure size 640x480 with 1 Axes>"
            ],
            "image/png": "[encoded data removed]"
          },
          "metadata": {}
        }
      ]
    },
    {
      "cell_type": "markdown",
      "metadata": {
        "id": "yJRQaWTXkipp"
      },
      "source": [
        "# Part 3/4 Algorithm"
      ]
    },
    {
      "cell_type": "markdown",
      "source": [
        "In these scenarios, we present a user with *K* items and the user tells us which of those items is most preferred. In case 3, *K*=2, and in case 4, *K* is some value greater than 2. "
      ],
      "metadata": {
        "id": "mLbEHNaPMgiZ"
      }
    },
    {
      "cell_type": "code",
      "execution_count": null,
      "metadata": {
        "id": "eJ9PeZWGkk_v"
      },
      "outputs": [],
      "source": [
        "def alg4(env, K, m, version = 0, max_iter=1000):\n",
        "\n",
        "  # choices for optimal item\n",
        "  candidates = range(n)\n",
        "  # keep track of utility after each iteration\n",
        "  utils = []\n",
        "\n",
        "  # observed points x satisfying u(x) >= 0\n",
        "  L = np.empty((d, 0))\n",
        "  # choose first K randomly\n",
        "  chosen_set = np.arange(K)\n",
        "  \n",
        "  # repeat for iterations\n",
        "  for _ in range(m):\n",
        "\n",
        "    # observe the best item out of the chosen set\n",
        "    preferred_item = chosen_set[0]\n",
        "    for i in chosen_set:\n",
        "      if(env.utility(env.item(i)) > env.utility(env.item(preferred_item))):\n",
        "        preferred_item = i\n",
        "\n",
        "    # add new points to L\n",
        "    if version != 1:\n",
        "      for j in chosen_set:\n",
        "        if(j == preferred_item): continue\n",
        "        else:\n",
        "          L = np.c_[L, (env.item(preferred_item) - env.item(j))/np.linalg.norm(env.item(preferred_item) - env.item(j))]\n",
        "    # in version 1, add other internal points\n",
        "    else:\n",
        "      for j in chosen_set:\n",
        "        if(j == preferred_item): continue\n",
        "        else:\n",
        "          L = np.c_[L, (env.item(preferred_item) - env.item(j))/np.linalg.norm(env.item(preferred_item) - env.item(j))]\n",
        "        for k in chosen_set:\n",
        "          if(k == preferred_item): continue\n",
        "          else:\n",
        "            L = np.c_[L, (2*env.item(preferred_item) - env.item(j) - env.item(k))/np.linalg.norm(2*env.item(preferred_item) - env.item(j) - env.item(k))]   \n",
        "    \n",
        "    # construct positive and negative points for svm\n",
        "    X = np.c_[L, -L]\n",
        "    Y = np.zeros((L.shape[1]*2,))\n",
        "    Y[:L.shape[1]] = 1\n",
        "    # fit svm and extract theta\n",
        "    clf = svm.LinearSVC(C=100000, fit_intercept = False, max_iter=max_iter).fit(np.transpose(X), Y)\n",
        "    theta = clf.coef_[0]\n",
        "\n",
        "    # order items by their estimated utility\n",
        "    S = np.matmul(env.items, theta)\n",
        "    S_ind = np.argsort(S)\n",
        "    S.sort()\n",
        "\n",
        "    min = float('inf')\n",
        "    ind = -1\n",
        "\n",
        "    # select the K items with closest estimated utilities\n",
        "    for i in range(0, n - K + 1):\n",
        "      if(S[i + K - 1] - S[i] < min):\n",
        "        min = S[i + K - 1] - S[i]\n",
        "        ind = i\n",
        "\n",
        "    chosen_set = S_ind[ind:ind+K]\n",
        "\n",
        "    # update utils with the current best item's utility\n",
        "    utils.append(env.utility(env.item(S_ind[-1])))\n",
        "\n",
        "  # choose the final best item\n",
        "  best_item = -1\n",
        "  best_util = -1\n",
        "  for i in candidates:\n",
        "    curr_util = np.dot(theta,env.item(i))\n",
        "    if curr_util > best_util:\n",
        "      best_util = curr_util\n",
        "      best_item = i\n",
        "\n",
        "  return best_item, env.utility(env.item(best_item)), utils\n"
      ]
    },
    {
      "cell_type": "markdown",
      "source": [
        "The following is a naive approach that repeatedly compares the best item the user has indicated so far with the next *(K-1)* items until we have examined every item."
      ],
      "metadata": {
        "id": "jPNq0wN2InZO"
      }
    },
    {
      "cell_type": "code",
      "source": [
        "def naivealg4(env, K, m):\n",
        "  n = env.n\n",
        "  d = env.d\n",
        "\n",
        "  utils = []\n",
        "  best = 0\n",
        "  best_util = env.utility(env.item(best))\n",
        "\n",
        "  # conduct m iterations, keeping track of the best item and observing K-1 new ones at each step after the first\n",
        "  for i in range(m*(K-1) + 1):\n",
        "    curr_util = env.utility(env.item(i))\n",
        "    if(curr_util > best_util):\n",
        "      best = i\n",
        "      best_util = curr_util\n",
        "    # after each K-1 observations a single iteration has passed and we report the utility\n",
        "    if((i)%(K-1) == 0):\n",
        "      utils.append(best_util)\n",
        "\n",
        "  return best, best_util, utils[1:]\n"
      ],
      "metadata": {
        "id": "fOcQePSu-7zQ"
      },
      "execution_count": null,
      "outputs": []
    },
    {
      "cell_type": "markdown",
      "source": [
        "In the following cell, we create an environment with 1000 items and 20 dimensions, and compare the convergence of our algorithms. Here, *K*=2."
      ],
      "metadata": {
        "id": "qHbhKgDPM7bP"
      }
    },
    {
      "cell_type": "code",
      "source": [
        "n = 1000\n",
        "d = 20\n",
        "\n",
        "actual = []\n",
        "alg = []\n",
        "alg2 = []\n",
        "naive = []\n",
        "naiveperformance = []\n",
        "algperformance = []\n",
        "\n",
        "for trial in tqdm(range(100)):\n",
        "  env = Environment(n, d)\n",
        "\n",
        "  naivebest, naiveutil, naiveutils = naivealg4(env, 2, 300)\n",
        "  best, util, utils = alg4(env, 2, 300)\n",
        "  actual.append(env.max_util)\n",
        "  alg.append(util)\n",
        "  naive.append(naiveutil)\n",
        "  naiveperformance.append(naiveutils)\n",
        "  algperformance.append(utils)\n",
        "print(\"Naive Best Util: \", np.mean(naive))\n",
        "print(\"Algorithm v0 Best Util: \", np.mean(alg))\n",
        "print(\"Actual Best Util: \", np.mean(actual))  "
      ],
      "metadata": {
        "colab": {
          "base_uri": "https://localhost:8080/"
        },
        "id": "XjGCvSFTWXLR",
        "outputId": "4619fd64-c935-4923-a065-d29f7efd1684"
      },
      "execution_count": null,
      "outputs": [
        {
          "output_type": "stream",
          "name": "stderr",
          "text": [
            "100%|██████████| 100/100 [12:05<00:00,  7.25s/it]"
          ]
        },
        {
          "output_type": "stream",
          "name": "stdout",
          "text": [
            "Naive Best Util:  0.586577762138329\n",
            "Algorithm v0 Best Util:  0.6566185330647469\n",
            "Actual Best Util:  0.6566185330647469\n"
          ]
        },
        {
          "output_type": "stream",
          "name": "stderr",
          "text": [
            "\n"
          ]
        }
      ]
    },
    {
      "cell_type": "code",
      "source": [
        "plt.plot(np.mean(naiveperformance, axis=0), label=\"Naive Algorithm\")\n",
        "plt.plot(np.mean(algperformance, axis=0), label=\"SVM Algorithm\")\n",
        "plt.plot(np.ones((300,1))*np.mean(actual), label=\"Best Utility\")\n",
        "plt.xlabel(\"Interactions with User\")\n",
        "plt.ylabel(\"Best Utility Found\")\n",
        "plt.legend()\n",
        "plt.show()"
      ],
      "metadata": {
        "colab": {
          "base_uri": "https://localhost:8080/",
          "height": 449
        },
        "id": "xzIjgkxDbVsh",
        "outputId": "3ad00751-dc9c-4e32-aeb3-208793b60999"
      },
      "execution_count": null,
      "outputs": [
        {
          "output_type": "display_data",
          "data": {
            "text/plain": [
              "<Figure size 640x480 with 1 Axes>"
            ],
            "image/png": "[encoded data removed]"
          },
          "metadata": {}
        }
      ]
    },
    {
      "cell_type": "markdown",
      "source": [
        "In the following cell, we create an environment with 1000 items and 20 dimensions, and compare the convergence of our algorithms. Here, *K*=5."
      ],
      "metadata": {
        "id": "RAZ5ZPh6NKse"
      }
    },
    {
      "cell_type": "code",
      "source": [
        "n = 1000\n",
        "d = 20\n",
        "\n",
        "actual = []\n",
        "alg = []\n",
        "alg2 = []\n",
        "naive = []\n",
        "naiveperformance = []\n",
        "algperformance = []\n",
        "\n",
        "for trial in range(500):\n",
        "  env = Environment(n, d)\n",
        "\n",
        "  naivebest, naiveutil, naiveutils = naivealg4(env, 5, 50)\n",
        "  best, util, utils = alg4(env, 5, 50)\n",
        "  actual.append(env.max_util)\n",
        "  alg.append(util)\n",
        "  naive.append(naiveutil)\n",
        "  naiveperformance.append(naiveutils)\n",
        "  algperformance.append(utils)\n",
        "print(\"Naive Best Util: \", np.mean(naive))\n",
        "print(\"Algorithm v0 Best Util: \", np.mean(alg))\n",
        "print(\"Actual Best Util: \", np.mean(actual))  "
      ],
      "metadata": {
        "id": "dn0PsRG2WIbA",
        "colab": {
          "base_uri": "https://localhost:8080/"
        },
        "outputId": "1fa5f490-6106-46ce-c0d3-2a8ca362b351"
      },
      "execution_count": null,
      "outputs": [
        {
          "output_type": "stream",
          "name": "stdout",
          "text": [
            "Naive Best Util:  0.581389832521097\n",
            "Algorithm v0 Best Util:  0.6565133182538719\n",
            "Actual Best Util:  0.6569311866830765\n"
          ]
        }
      ]
    },
    {
      "cell_type": "code",
      "source": [
        "plt.plot(np.mean(naiveperformance, axis=0), label=\"Naive Algorithm\")\n",
        "plt.plot(np.mean(algperformance, axis=0), label=\"SVM Algorithm\")\n",
        "plt.plot(np.ones((50,1))*np.mean(actual), label=\"Best Utility\")\n",
        "plt.xlabel(\"Interactions with User\")\n",
        "plt.ylabel(\"Best Utility Found\")\n",
        "plt.legend()\n",
        "plt.show()"
      ],
      "metadata": {
        "id": "T77w8b_EQVil",
        "colab": {
          "base_uri": "https://localhost:8080/",
          "height": 449
        },
        "outputId": "68be6169-b24f-4121-8d33-8eda2c7b36a1"
      },
      "execution_count": null,
      "outputs": [
        {
          "output_type": "display_data",
          "data": {
            "text/plain": [
              "<Figure size 640x480 with 1 Axes>"
            ],
            "image/png": "[encoded data removed]"
          },
          "metadata": {}
        }
      ]
    }
  ],
  "metadata": {
    "colab": {
      "provenance": []
    },
    "kernelspec": {
      "display_name": "Python 3",
      "name": "python3"
    },
    "language_info": {
      "name": "python"
    }
  },
  "nbformat": 4,
  "nbformat_minor": 0
}